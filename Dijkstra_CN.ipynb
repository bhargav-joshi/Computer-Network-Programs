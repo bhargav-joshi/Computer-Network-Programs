{
  "nbformat": 4,
  "nbformat_minor": 0,
  "metadata": {
    "colab": {
      "name": "Dijkstra CN",
      "provenance": [],
      "collapsed_sections": [],
      "authorship_tag": "ABX9TyOnCRr7UwPfSoOKJwsSO3dC",
      "include_colab_link": true
    },
    "kernelspec": {
      "name": "python3",
      "display_name": "Python 3"
    }
  },
  "cells": [
    {
      "cell_type": "markdown",
      "metadata": {
        "id": "view-in-github",
        "colab_type": "text"
      },
      "source": [
        "<a href=\"https://colab.research.google.com/github/bhargav-joshi/Computer-Network-Programs/blob/master/Dijkstra_CN.ipynb\" target=\"_parent\"><img src=\"https://colab.research.google.com/assets/colab-badge.svg\" alt=\"Open In Colab\"/></a>"
      ]
    },
    {
      "cell_type": "markdown",
      "metadata": {
        "id": "XaRApnmCGSZb",
        "colab_type": "text"
      },
      "source": [
        "## **Implement Djikstra’s algorithm for demonstrating Link State Routing for creation of routing table.**"
      ]
    },
    {
      "cell_type": "code",
      "metadata": {
        "id": "CmPnYE60xD54",
        "colab_type": "code",
        "colab": {
          "base_uri": "https://localhost:8080/",
          "height": 572
        },
        "outputId": "4271a4b6-905c-4c34-c705-e4995d358e71"
      },
      "source": [
        "n = int(input(\"Enter No. of Nodes => \"))\n",
        "mat = []\n",
        "print(\"Enter elements in Rowwise =>\")\n",
        "for i in range(n):\n",
        "  a=[]\n",
        "  for j in range(n):\n",
        "    a.append(int(input()))\n",
        "  mat.append(a)\n",
        "\n",
        "for i in range(n): \n",
        "    for j in range(n): \n",
        "        print(mat[i][j], end = \" \") \n",
        "    print() \n",
        "\n",
        "l=[]\n",
        "\n",
        "for i in range(n):\n",
        "  l.append(chr(i+65))\n",
        "  \n",
        "print(l)\n",
        "          \n",
        "def belongs(v,Q):\n",
        "  for i in Q:\n",
        "    if v==i:\n",
        "      return 1\n",
        "  return 0\n",
        "\n",
        "def extract_min(Q,d):\n",
        "  min_pos=Q[0]\n",
        "  for i in Q:\n",
        "    if d[i]<d[min_pos]:\n",
        "      min_pos=i\n",
        "  return min_pos\n",
        "  \n",
        "def adj(u,v):\n",
        "  if mat[u][v]>0 and mat[u][v]!=9999:\n",
        "    return 1\n",
        "  return 0\n",
        "\n",
        "def Dijkstra(r):\n",
        "  d = [9999]*n\n",
        "  pi = [-1]*n\n",
        "  d[r]=0\n",
        "  Q=[]\n",
        "  for i in range(n):\n",
        "    Q.append(i)\n",
        "\n",
        "  while len(Q):\n",
        "\n",
        "    u=extract_min(Q,d)\n",
        "    for v in range(n):\n",
        "      if adj(u,v) and belongs(v,Q):\n",
        "        if d[v]>(d[u]+mat[u][v]):\n",
        "          d[v]=d[u]+mat[u][v]\n",
        "          pi[v]=u\n",
        "    Q.remove(u)\n",
        "  return d,pi\n",
        "dist=[]\n",
        "parent = []\n",
        "for i in range(n):\n",
        "  dist.append(Dijkstra(i)[0])\n",
        "  parent.append(Dijkstra(i)[1])\n",
        "\n",
        "for i in range (n):\n",
        "    \n",
        "    \n",
        "    for j in range(n):\n",
        "        \n",
        "        if(parent[i][j]==-1 or parent[i][j]==i):\n",
        "            parent[i][j]=-1\n",
        "for i in range (n):\n",
        "    print(\"This is the Routing Table for Vertex :\",chr(i+65))\n",
        "    print(\"To\"+\"\\t\"+\"Cost\"+\"\\t\"+\"Next\")\n",
        "    for j in range(n):\n",
        "        \n",
        "        print(l[j],\"\\t\",dist[i][j],\"\\t\",chr(parent[i][j]+65) if parent[i][j]!=-1 else '-',end=\"\\n\")\n",
        "    print()"
      ],
      "execution_count": null,
      "outputs": [
        {
          "output_type": "stream",
          "text": [
            "Enter No. of Nodes => 3\n",
            "Enter elements in Rowwise =>\n",
            "5\n",
            "2\n",
            "1\n",
            "4\n",
            "8\n",
            "9\n",
            "7\n",
            "88\n",
            "66\n",
            "5 2 1 \n",
            "4 8 9 \n",
            "7 88 66 \n",
            "['A', 'B', 'C']\n",
            "This is the Routing Table for Vertex : A\n",
            "To\tCost\tNext\n",
            "A \t 0 \t -\n",
            "B \t 2 \t -\n",
            "C \t 1 \t -\n",
            "\n",
            "This is the Routing Table for Vertex : B\n",
            "To\tCost\tNext\n",
            "A \t 4 \t -\n",
            "B \t 0 \t -\n",
            "C \t 5 \t A\n",
            "\n",
            "This is the Routing Table for Vertex : C\n",
            "To\tCost\tNext\n",
            "A \t 7 \t -\n",
            "B \t 9 \t A\n",
            "C \t 0 \t -\n",
            "\n"
          ],
          "name": "stdout"
        }
      ]
    },
    {
      "cell_type": "markdown",
      "metadata": {
        "id": "m2u4zh0rGjpl",
        "colab_type": "text"
      },
      "source": [
        ""
      ]
    },
    {
      "cell_type": "code",
      "metadata": {
        "id": "hkDva7pAHP-W",
        "colab_type": "code",
        "colab": {}
      },
      "source": [
        ""
      ],
      "execution_count": null,
      "outputs": []
    }
  ]
}