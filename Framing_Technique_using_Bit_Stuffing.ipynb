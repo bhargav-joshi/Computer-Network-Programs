{
  "nbformat": 4,
  "nbformat_minor": 0,
  "metadata": {
    "colab": {
      "name": "Framing Technique using Bit Stuffing",
      "provenance": [],
      "authorship_tag": "ABX9TyPkdu3WNN+lqHCtTDOYU3R6",
      "include_colab_link": true
    },
    "kernelspec": {
      "name": "python3",
      "display_name": "Python 3"
    }
  },
  "cells": [
    {
      "cell_type": "markdown",
      "metadata": {
        "id": "view-in-github",
        "colab_type": "text"
      },
      "source": [
        "<a href=\"https://colab.research.google.com/github/bhargav-joshi/Computer-Network-Programs/blob/master/Framing_Technique_using_Bit_Stuffing.ipynb\" target=\"_parent\"><img src=\"https://colab.research.google.com/assets/colab-badge.svg\" alt=\"Open In Colab\"/></a>"
      ]
    },
    {
      "cell_type": "code",
      "metadata": {
        "id": "glryLDp_XVHZ",
        "colab_type": "code",
        "colab": {
          "base_uri": "https://localhost:8080/",
          "height": 102
        },
        "outputId": "f5319cf6-9a5d-4381-ce50-4c4e96e65e59"
      },
      "source": [
        "import re\n",
        "def stuff(st,flag) :\n",
        "    st2=st\n",
        "    i=0\n",
        "    for match in re.finditer(flag, st):\n",
        "        s = match.start()\n",
        "        e = match.end()\n",
        "        stt=st[0:e-1+i]\n",
        "        stt2=st[e-1+i:]\n",
        "        st=stt+\"0\"+stt2\n",
        "        i+=1\n",
        "    st='01111110'+st+'01111110'\n",
        "    print(\"Stuffed Data : \",st)\n",
        "    print(\"Sent Data : \",st)\n",
        "    destuff(st,flag)\n",
        "def destuff(st,falg) :\n",
        "    i=0\n",
        "    for match in re.finditer('11111', st):\n",
        "        s = match.start()\n",
        "        e = match.end()\n",
        "        stt=st[0:e-i]\n",
        "        stt2=st[e+1-i:]\n",
        "        st=stt+stt2\n",
        "        i+=1\n",
        "    st=st[7:-7]\n",
        "    print(\"Destuffed Data : \",st)\n",
        "st=input(\"Enter the Data \")\n",
        "print(\"Actual Data :\",st)\n",
        "flag='111111'\n",
        "stuff(st,flag)\n"
      ],
      "execution_count": 1,
      "outputs": [
        {
          "output_type": "stream",
          "text": [
            "Enter the Data 000111000111111000111111000011111100010\n",
            "Actual Data : 000111000111111000111111000011111100010\n",
            "Stuffed Data :  0111111000011100011111010001111101000011111010001001111110\n",
            "Sent Data :  0111111000011100011111010001111101000011111010001001111110\n",
            "Destuffed Data :  000111000111111000111111000011111100010\n"
          ],
          "name": "stdout"
        }
      ]
    }
  ]
}