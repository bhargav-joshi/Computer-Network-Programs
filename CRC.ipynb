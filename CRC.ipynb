{
  "nbformat": 4,
  "nbformat_minor": 0,
  "metadata": {
    "colab": {
      "name": "CRC",
      "provenance": [],
      "authorship_tag": "ABX9TyNlQwe6Tx3lJMZRLXSJyyH1",
      "include_colab_link": true
    },
    "kernelspec": {
      "name": "python3",
      "display_name": "Python 3"
    }
  },
  "cells": [
    {
      "cell_type": "markdown",
      "metadata": {
        "id": "view-in-github",
        "colab_type": "text"
      },
      "source": [
        "<a href=\"https://colab.research.google.com/github/bhargav-joshi/Computer-Network-Programs/blob/master/CRC.ipynb\" target=\"_parent\"><img src=\"https://colab.research.google.com/assets/colab-badge.svg\" alt=\"Open In Colab\"/></a>"
      ]
    },
    {
      "cell_type": "code",
      "metadata": {
        "id": "Go6k1VogDxmb",
        "colab_type": "code",
        "colab": {
          "base_uri": "https://localhost:8080/",
          "height": 136
        },
        "outputId": "0624e521-e988-4423-b842-3ee5c815ad79"
      },
      "source": [
        "def xor(a,b):\n",
        "    result=[]\n",
        "    for i in range(1,len(b)):\n",
        "        if(a[i]==b[i]):\n",
        "            result.append('0')\n",
        "        else:\n",
        "            result.append('1')\n",
        "    return ''.join(result)        \n",
        "\n",
        "def calculate(divident,divisor):\n",
        "    pick=len(divisor)\n",
        "    temp=divident[0:pick]\n",
        "    while pick< len(divident):\n",
        "        if(temp[0]=='1'):\n",
        "            temp=xor(divisor,temp)+divident[pick]\n",
        "        else:\n",
        "            temp=xor('0'*pick,temp)+divident[pick]\n",
        "            \n",
        "        pick += 1\n",
        "    if(temp[0]=='1'):\n",
        "         temp=xor(divisor,temp)\n",
        "    else:\n",
        "        temp=xor('0'*pick,temp)\n",
        "    checkword = temp\n",
        "    return checkword\n",
        "def sending(inp,crc):\n",
        "    send=inp+crc\n",
        "    return send\n",
        "def receiving(out,gen):\n",
        "    check=calculate(out,gen)\n",
        "    if(int(check)== 0):\n",
        "        print(\"The Data is Received=\"+out)\n",
        "        print(\"The Data is Accepted\")\n",
        "    else:\n",
        "         print(\"The Data is Received=\"+out)\n",
        "         print(\"The Data is Incorrect So, It is rejected\")\n",
        "def wrong(out):\n",
        "    res=[]\n",
        "    j=0\n",
        "    for j in range(len(out)):\n",
        "        if(out[j]=='0'):\n",
        "            res.append('1')\n",
        "        else:\n",
        "            res.append('0')\n",
        "            \n",
        "    return ''.join(res) \n",
        "        \n",
        "inp=input(' Enter a Binary Number => ')\n",
        "c='000'\n",
        "data=inp+c\n",
        "gen='1101'\n",
        "crc=calculate(data,gen)\n",
        "print(\"CRC =>:\"+crc)\n",
        "out=sending(inp,crc)\n",
        "print(\"The Data to be send => \"+out)\n",
        "receiving(out,gen)\n",
        "wr=wrong(out)\n",
        "receiving(wr,gen)    "
      ],
      "execution_count": 3,
      "outputs": [
        {
          "output_type": "stream",
          "text": [
            " Enter a Binary Number => 110010\n",
            "CRC =>:100\n",
            "The Data to be send => 110010100\n",
            "The Data is Received=110010100\n",
            "The Data is Accepted\n",
            "The Data is Received=001101011\n",
            "The Data is Incorrect So, It is rejected\n"
          ],
          "name": "stdout"
        }
      ]
    }
  ]
}